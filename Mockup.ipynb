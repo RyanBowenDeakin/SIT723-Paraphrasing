{
 "cells": [
  {
   "cell_type": "code",
   "execution_count": 11,
   "id": "ff657947",
   "metadata": {},
   "outputs": [
    {
     "name": "stdout",
     "output_type": "stream",
     "text": [
      "Requirement already satisfied: nltk in c:\\programdata\\anaconda3\\lib\\site-packages (3.6.5)\n",
      "Requirement already satisfied: click in c:\\programdata\\anaconda3\\lib\\site-packages (from nltk) (8.0.3)\n",
      "Requirement already satisfied: joblib in c:\\programdata\\anaconda3\\lib\\site-packages (from nltk) (1.1.0)\n",
      "Requirement already satisfied: regex>=2021.8.3 in c:\\programdata\\anaconda3\\lib\\site-packages (from nltk) (2021.8.3)\n",
      "Requirement already satisfied: tqdm in c:\\programdata\\anaconda3\\lib\\site-packages (from nltk) (4.62.3)\n",
      "Requirement already satisfied: colorama in c:\\programdata\\anaconda3\\lib\\site-packages (from click->nltk) (0.4.4)\n"
     ]
    },
    {
     "name": "stderr",
     "output_type": "stream",
     "text": [
      "WARNING: Ignoring invalid distribution -andas (c:\\programdata\\anaconda3\\lib\\site-packages)\n",
      "WARNING: Ignoring invalid distribution -andas (c:\\programdata\\anaconda3\\lib\\site-packages)\n",
      "WARNING: Ignoring invalid distribution -andas (c:\\programdata\\anaconda3\\lib\\site-packages)\n",
      "WARNING: Ignoring invalid distribution -andas (c:\\programdata\\anaconda3\\lib\\site-packages)\n",
      "WARNING: Ignoring invalid distribution -andas (c:\\programdata\\anaconda3\\lib\\site-packages)\n",
      "WARNING: Ignoring invalid distribution -andas (c:\\programdata\\anaconda3\\lib\\site-packages)\n"
     ]
    }
   ],
   "source": [
    "import sys\n",
    "!{sys.executable} -m pip install nltk\n",
    "import nltk\n",
    "#nltk.download('all')\n",
    "from nltk.corpus import stopwords\n",
    "from nltk.tokenize import word_tokenize"
   ]
  },
  {
   "cell_type": "code",
   "execution_count": 12,
   "id": "bf0bc7f1",
   "metadata": {},
   "outputs": [],
   "source": [
    "#First, we use a paraphrasing tool\n",
    "#studentSubmission = \"\"\"\"\"\"\n",
    "suspectedSource = \"\"\"\n",
    "\n",
    "\"\"\"\n",
    "\n",
    "paraphrasedResult = \"\"\"\n",
    "\n",
    "\"\"\""
   ]
  },
  {
   "cell_type": "code",
   "execution_count": 13,
   "id": "2dbf9158",
   "metadata": {},
   "outputs": [
    {
     "data": {
      "text/plain": [
       "0.8253808739099077"
      ]
     },
     "execution_count": 13,
     "metadata": {},
     "output_type": "execute_result"
    }
   ],
   "source": [
    "#Then we compare the paraphrased text to the submission\n",
    "\n",
    "def similiarityScore_Sentance(stringOne, stringTwo):\n",
    "    sw = stopwords.words('english')\n",
    "\n",
    "    #Remove stop words\n",
    "    X_set = {w for w in word_tokenize(stringOne) if not w in sw}\n",
    "    Y_set = {w for w in word_tokenize(stringTwo) if not w in sw}\n",
    "    \n",
    "    totalCount = (len(X_set) + len(Y_set))/2\n",
    "    matchedCount = 0\n",
    "    \n",
    "    rvector = X_set.union(Y_set)\n",
    "    for w in rvector:\n",
    "        if w in X_set and w in Y_set:\n",
    "            matchedCount += 1\n",
    "        \n",
    "    return matchedCount/totalCount\n",
    "    \n",
    "def similarityScore_FullText(stringOne, stringTwo):\n",
    "    sentancesOne = nltk.sent_tokenize(stringOne)\n",
    "    sentancesTwo = nltk.sent_tokenize(stringTwo)\n",
    "    \n",
    "    totalSim = 0\n",
    "    for i in sentancesOne:\n",
    "        maxSim = 0\n",
    "        for j in sentancesTwo:\n",
    "            current = similiarityScore_Sentance(i, j)\n",
    "            if current > maxSim:\n",
    "                maxSim = current\n",
    "        totalSim += maxSim\n",
    "                \n",
    "    return totalSim/(len(sentancesOne))\n",
    "    \n",
    "\n",
    "#similarityScore_FullText(studentSubmission, paraphrasedResult)\n",
    "similarityScore_FullText(suspectedSource, paraphrasedResult)"
   ]
  },
  {
   "cell_type": "code",
   "execution_count": 14,
   "id": "feb01bf3",
   "metadata": {},
   "outputs": [
    {
     "data": {
      "text/plain": [
       "0.32736429770565195"
      ]
     },
     "execution_count": 14,
     "metadata": {},
     "output_type": "execute_result"
    }
   ],
   "source": [
    "#Trying K-Grams\n",
    "from collections import defaultdict\n",
    "\n",
    "def kgrams(text, k):\n",
    "    # split the text into a list of words\n",
    "    words = text.split()\n",
    "    # initialize a default dict to store the k-grams\n",
    "    kgrams = defaultdict(int)\n",
    "    # iterate over the list of words\n",
    "    for i in range(len(words) - k + 1):\n",
    "        # create a k-gram by joining the current k words with a space\n",
    "        kgram = \" \".join(words[i:i+k])\n",
    "        # increment the count for the k-gram in the default dict\n",
    "        kgrams[kgram] += 1\n",
    "    # return the dict of k-grams and their counts\n",
    "    return kgrams\n",
    "\n",
    "def kGramSimilarity(text1, text2, k):\n",
    "    # get the k-grams for each text\n",
    "    kgrams1 = kgrams(text1, k)\n",
    "    kgrams2 = kgrams(text2, k)\n",
    "    # initialize a variable to store the number of common k-grams\n",
    "    common = 0\n",
    "    # iterate over the k-grams for the first text\n",
    "    for kgram, count in kgrams1.items():\n",
    "        # if the k-gram also exists in the second text, increment the count\n",
    "        if kgram in kgrams2:\n",
    "            common += count\n",
    "    # calculate the total number of k-grams by summing the counts\n",
    "    total = sum(kgrams1.values()) + sum(kgrams2.values())\n",
    "    return common / total\n",
    "\n",
    "k = 3\n",
    "\n",
    "#kGramSimilarity(studentSubmission, paraphrasedResult, k)\n",
    "kGramSimilarity(suspectedSource, paraphrasedResult, k)"
   ]
  },
  {
   "cell_type": "code",
   "execution_count": 15,
   "id": "7d2beeba",
   "metadata": {},
   "outputs": [],
   "source": [
    "sourceTokenised = nltk.sent_tokenize(suspectedSource)\n",
    "paraphraseTokenised = nltk.sent_tokenize(paraphrasedResult)"
   ]
  },
  {
   "cell_type": "code",
   "execution_count": 16,
   "id": "3d2d939e",
   "metadata": {},
   "outputs": [],
   "source": [
    "#NLTK BLEU\n",
    "#from nltk.translate.bleu_score import corpus_bleu\n",
    "#corpus_bleu(sourceTokenised, paraphraseTokenised)"
   ]
  },
  {
   "cell_type": "code",
   "execution_count": 17,
   "id": "acc0d761",
   "metadata": {
    "scrolled": true
   },
   "outputs": [
    {
     "name": "stdout",
     "output_type": "stream",
     "text": [
      "Requirement already satisfied: sacreBLEU in c:\\programdata\\anaconda3\\lib\\site-packages (2.3.1)\n",
      "Requirement already satisfied: numpy>=1.17 in c:\\programdata\\anaconda3\\lib\\site-packages (from sacreBLEU) (1.20.3)\n",
      "Requirement already satisfied: tabulate>=0.8.9 in c:\\programdata\\anaconda3\\lib\\site-packages (from sacreBLEU) (0.9.0)\n",
      "Requirement already satisfied: lxml in c:\\programdata\\anaconda3\\lib\\site-packages (from sacreBLEU) (4.6.3)\n",
      "Requirement already satisfied: colorama in c:\\programdata\\anaconda3\\lib\\site-packages (from sacreBLEU) (0.4.4)\n",
      "Requirement already satisfied: regex in c:\\programdata\\anaconda3\\lib\\site-packages (from sacreBLEU) (2021.8.3)\n",
      "Requirement already satisfied: portalocker in c:\\programdata\\anaconda3\\lib\\site-packages (from sacreBLEU) (2.7.0)\n",
      "Requirement already satisfied: pywin32>=226 in c:\\programdata\\anaconda3\\lib\\site-packages (from portalocker->sacreBLEU) (228)\n"
     ]
    },
    {
     "name": "stderr",
     "output_type": "stream",
     "text": [
      "WARNING: Ignoring invalid distribution -andas (c:\\programdata\\anaconda3\\lib\\site-packages)\n",
      "WARNING: Ignoring invalid distribution -andas (c:\\programdata\\anaconda3\\lib\\site-packages)\n",
      "WARNING: Ignoring invalid distribution -andas (c:\\programdata\\anaconda3\\lib\\site-packages)\n",
      "WARNING: Ignoring invalid distribution -andas (c:\\programdata\\anaconda3\\lib\\site-packages)\n",
      "WARNING: Ignoring invalid distribution -andas (c:\\programdata\\anaconda3\\lib\\site-packages)\n",
      "WARNING: Ignoring invalid distribution -andas (c:\\programdata\\anaconda3\\lib\\site-packages)\n"
     ]
    }
   ],
   "source": [
    "#sacreBLEU!\n",
    "!{sys.executable} -m pip install sacreBLEU\n",
    "from sacrebleu.metrics import BLEU, CHRF, TER"
   ]
  },
  {
   "cell_type": "code",
   "execution_count": 18,
   "id": "387cc505",
   "metadata": {},
   "outputs": [
    {
     "data": {
      "text/plain": [
       "BLEU = 0.08 1.9/0.1/0.0/0.0 (BP = 1.000 ratio = 28.600 hyp_len = 1001 ref_len = 35)"
      ]
     },
     "execution_count": 18,
     "metadata": {},
     "output_type": "execute_result"
    }
   ],
   "source": [
    "bleu = BLEU()\n",
    "bleu.corpus_score(sourceTokenised, paraphraseTokenised)"
   ]
  },
  {
   "cell_type": "code",
   "execution_count": 19,
   "id": "bf6a065f",
   "metadata": {},
   "outputs": [
    {
     "data": {
      "text/plain": [
       "chrF2 = 3.87"
      ]
     },
     "execution_count": 19,
     "metadata": {},
     "output_type": "execute_result"
    }
   ],
   "source": [
    "chrf = CHRF()\n",
    "chrf.corpus_score(sourceTokenised, paraphraseTokenised)"
   ]
  },
  {
   "cell_type": "code",
   "execution_count": 20,
   "id": "43c1a3c8",
   "metadata": {},
   "outputs": [
    {
     "data": {
      "text/plain": [
       "TER = 3011.34"
      ]
     },
     "execution_count": 20,
     "metadata": {},
     "output_type": "execute_result"
    }
   ],
   "source": [
    "ter = TER()\n",
    "ter.corpus_score(sourceTokenised, paraphraseTokenised)"
   ]
  },
  {
   "cell_type": "code",
   "execution_count": null,
   "id": "f08f0fdc",
   "metadata": {},
   "outputs": [],
   "source": []
  }
 ],
 "metadata": {
  "kernelspec": {
   "display_name": "Python 3 (ipykernel)",
   "language": "python",
   "name": "python3"
  },
  "language_info": {
   "codemirror_mode": {
    "name": "ipython",
    "version": 3
   },
   "file_extension": ".py",
   "mimetype": "text/x-python",
   "name": "python",
   "nbconvert_exporter": "python",
   "pygments_lexer": "ipython3",
   "version": "3.9.7"
  }
 },
 "nbformat": 4,
 "nbformat_minor": 5
}
